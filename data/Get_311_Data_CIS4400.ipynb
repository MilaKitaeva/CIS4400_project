{
 "cells": [
  {
   "cell_type": "markdown",
   "id": "37dbfa35",
   "metadata": {},
   "source": [
    "# Install the SoDaPY library"
   ]
  },
  {
   "cell_type": "code",
   "execution_count": 1,
   "id": "1d0f4138",
   "metadata": {},
   "outputs": [
    {
     "name": "stdout",
     "output_type": "stream",
     "text": [
      "Requirement already satisfied: sodapy in ./opt/anaconda3/lib/python3.9/site-packages (2.2.0)\n",
      "Requirement already satisfied: requests>=2.28.1 in ./opt/anaconda3/lib/python3.9/site-packages (from sodapy) (2.28.1)\n",
      "Requirement already satisfied: urllib3<1.27,>=1.21.1 in ./opt/anaconda3/lib/python3.9/site-packages (from requests>=2.28.1->sodapy) (1.26.11)\n",
      "Requirement already satisfied: idna<4,>=2.5 in ./opt/anaconda3/lib/python3.9/site-packages (from requests>=2.28.1->sodapy) (3.3)\n",
      "Requirement already satisfied: certifi>=2017.4.17 in ./opt/anaconda3/lib/python3.9/site-packages (from requests>=2.28.1->sodapy) (2022.9.24)\n",
      "Requirement already satisfied: charset-normalizer<3,>=2 in ./opt/anaconda3/lib/python3.9/site-packages (from requests>=2.28.1->sodapy) (2.0.4)\n",
      "Note: you may need to restart the kernel to use updated packages.\n"
     ]
    }
   ],
   "source": [
    "pip install sodapy"
   ]
  },
  {
   "cell_type": "markdown",
   "id": "f045bd50",
   "metadata": {},
   "source": [
    "# Import Libraries"
   ]
  },
  {
   "cell_type": "code",
   "execution_count": 2,
   "id": "8d99f2bd",
   "metadata": {},
   "outputs": [],
   "source": [
    "import pandas as pd\n",
    "from sodapy import Socrata\n",
    "import os"
   ]
  },
  {
   "cell_type": "markdown",
   "id": "8970fda3",
   "metadata": {},
   "source": [
    "# Set Up the Client"
   ]
  },
  {
   "cell_type": "code",
   "execution_count": 3,
   "id": "9b219cce",
   "metadata": {},
   "outputs": [],
   "source": [
    "data_url='data.cityofnewyork.us' \n",
    "data_set='erm2-nwe9'    # The data set at the API endpoint (311 data in this case)\n",
    "app_token='ggw6v8SloaFdqX1xvzxvZvIY8'   # The app token created in the prior steps\n",
    "client = Socrata(data_url,app_token)      # Create the client to point to the API endpoint    \n",
    "client.timeout = 240                      "
   ]
  },
  {
   "cell_type": "markdown",
   "id": "03097210",
   "metadata": {},
   "source": [
    "# Query and Export Data"
   ]
  },
  {
   "cell_type": "code",
   "execution_count": 11,
   "id": "d78e2c9a",
   "metadata": {},
   "outputs": [
    {
     "name": "stdout",
     "output_type": "stream",
     "text": [
      "Fetching New Tree Request data from 2016\n",
      "Fetching New Tree Request data from 2017\n",
      "Fetching New Tree Request data from 2018\n",
      "Fetching New Tree Request data from 2019\n",
      "Fetching New Tree Request data from 2020\n",
      "Fetching New Tree Request data from 2021\n",
      "Fetching New Tree Request data from 2022\n",
      "Fetching New Tree Request data from 2023\n"
     ]
    }
   ],
   "source": [
    "for x in range(2016, 2024):\n",
    "    # get data\n",
    "    start = 0\n",
    "    chunk_size = 2000\n",
    "    results = []\n",
    "\n",
    "    where_clause = f\"complaint_type LIKE 'New Tree Request%' AND date_extract_y(created_date)={x}\"\n",
    "    data_set = 'erm2-nwe9'\n",
    "    record_count = client.get(data_set, where=where_clause, select=\"COUNT(*)\")\n",
    "    print(f'Fetching New Tree Request data from {x}')\n",
    "    \n",
    "    while True:\n",
    "        results.extend(client.get(data_set, where=where_clause, offset=start, limit=chunk_size))\n",
    "        start += chunk_size\n",
    "        if (start > int(record_count[0]['COUNT'])):\n",
    "            break\n",
    "    \n",
    "    # export data to csv\n",
    "    df = pd.DataFrame.from_records(results)\n",
    "    df.to_csv(f'311_tree_request_{x}.csv', index=False)\n",
    "    "
   ]
  },
  {
   "cell_type": "code",
   "execution_count": 12,
   "id": "0d021539",
   "metadata": {},
   "outputs": [
    {
     "data": {
      "text/plain": [
       "21241"
      ]
     },
     "execution_count": 12,
     "metadata": {},
     "output_type": "execute_result"
    }
   ],
   "source": [
    "len(results)"
   ]
  },
  {
   "cell_type": "code",
   "execution_count": 13,
   "id": "fa4eb86b",
   "metadata": {},
   "outputs": [
    {
     "name": "stdout",
     "output_type": "stream",
     "text": [
      "Type of record_count for 2023: <class 'list'>\n"
     ]
    }
   ],
   "source": [
    "print(f'Type of record_count for {x}: {type(record_count)}')"
   ]
  },
  {
   "cell_type": "code",
   "execution_count": 14,
   "id": "2a042806",
   "metadata": {},
   "outputs": [
    {
     "data": {
      "text/plain": [
       "unique_key                        21241\n",
       "created_date                      21241\n",
       "agency                            21241\n",
       "agency_name                       21241\n",
       "complaint_type                    21241\n",
       "descriptor                        21241\n",
       "location_type                     21236\n",
       "incident_zip                      21190\n",
       "incident_address                  21191\n",
       "street_name                       21191\n",
       "cross_street_1                    20887\n",
       "cross_street_2                    21172\n",
       "intersection_street_1             20887\n",
       "intersection_street_2             21172\n",
       "address_type                      21191\n",
       "city                              20751\n",
       "landmark                          20751\n",
       "status                            21241\n",
       "community_board                   21241\n",
       "borough                           21241\n",
       "x_coordinate_state_plane          21185\n",
       "y_coordinate_state_plane          21191\n",
       "open_data_channel_type            21241\n",
       "park_facility_name                21241\n",
       "park_borough                      21241\n",
       "latitude                          21185\n",
       "longitude                         21185\n",
       "location                          21185\n",
       "bbl                               20183\n",
       "closed_date                        5708\n",
       "resolution_description            15244\n",
       "resolution_action_updated_date    15244\n",
       "dtype: int64"
      ]
     },
     "execution_count": 14,
     "metadata": {},
     "output_type": "execute_result"
    }
   ],
   "source": [
    "df.count()"
   ]
  },
  {
   "cell_type": "code",
   "execution_count": 16,
   "id": "1ac5640e",
   "metadata": {},
   "outputs": [
    {
     "name": "stdout",
     "output_type": "stream",
     "text": [
      "<class 'pandas.core.frame.DataFrame'>\n"
     ]
    }
   ],
   "source": [
    "print(type(df))"
   ]
  },
  {
   "cell_type": "code",
   "execution_count": 17,
   "id": "d64a84c5",
   "metadata": {},
   "outputs": [
    {
     "name": "stdout",
     "output_type": "stream",
     "text": [
      "Index(['unique_key', 'created_date', 'agency', 'agency_name', 'complaint_type',\n",
      "       'descriptor', 'location_type', 'incident_zip', 'incident_address',\n",
      "       'street_name', 'cross_street_1', 'cross_street_2',\n",
      "       'intersection_street_1', 'intersection_street_2', 'address_type',\n",
      "       'city', 'landmark', 'status', 'community_board', 'borough',\n",
      "       'x_coordinate_state_plane', 'y_coordinate_state_plane',\n",
      "       'open_data_channel_type', 'park_facility_name', 'park_borough',\n",
      "       'latitude', 'longitude', 'location', 'bbl', 'closed_date',\n",
      "       'resolution_description', 'resolution_action_updated_date'],\n",
      "      dtype='object')\n"
     ]
    }
   ],
   "source": [
    "print(df.columns)\n",
    "\n"
   ]
  },
  {
   "cell_type": "code",
   "execution_count": null,
   "id": "b50ff593",
   "metadata": {},
   "outputs": [],
   "source": []
  }
 ],
 "metadata": {
  "kernelspec": {
   "display_name": "Python 3 (ipykernel)",
   "language": "python",
   "name": "python3"
  },
  "language_info": {
   "codemirror_mode": {
    "name": "ipython",
    "version": 3
   },
   "file_extension": ".py",
   "mimetype": "text/x-python",
   "name": "python",
   "nbconvert_exporter": "python",
   "pygments_lexer": "ipython3",
   "version": "3.9.13"
  }
 },
 "nbformat": 4,
 "nbformat_minor": 5
}
