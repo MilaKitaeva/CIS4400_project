{
 "cells": [
  {
   "cell_type": "code",
   "execution_count": 1,
   "id": "1dhS_W_y2-Zw",
   "metadata": {
    "id": "1dhS_W_y2-Zw"
   },
   "outputs": [],
   "source": [
    "# If using the native Google BigQuery API module:\n",
    "from google.cloud import bigquery\n",
    "from google.cloud.exceptions import NotFound\n",
    "import pandas as pd\n",
    "import os\n",
    "import pyarrow\n",
    "import logging\n",
    "from datetime import datetime\n",
    "import credentials\n",
    "from google.oauth2 import service_account\n"
   ]
  },
  {
   "cell_type": "code",
   "execution_count": 2,
   "id": "r405QK10hDNU",
   "metadata": {
    "id": "r405QK10hDNU"
   },
   "outputs": [],
   "source": [
    "# If using a service account key file, save the path to that file in credentials.py and import credentials\n",
    "path_to_service_account_key_file = '/Users/liudmilakitaeva/Downloads/cis-4400-406318-6261595b1732.json'\n",
    "#!pip install credentials"
   ]
  },
  {
   "cell_type": "code",
   "execution_count": 3,
   "id": "46960187",
   "metadata": {
    "id": "46960187"
   },
   "outputs": [],
   "source": [
    "# Set the name of the dimension\n",
    "dimension_name = 'date'\n",
    "\n",
    "# Set the name of the surrogate key\n",
    "surrogate_key = f\"{dimension_name}_dim_id\"\n",
    "\n",
    "# Set the name of the business key\n",
    "business_key = f'{dimension_name}_id'\n",
    "\n",
    "# Set the GCP Project, dataset and table name\n",
    "gcp_project = 'cis-4400-406318'\n",
    "bq_dataset = '311_newtree_dataset'\n",
    "table_name = f\"{dimension_name}_dimension\"\n",
    "# Construct the full BigQuery path to the table\n",
    "dimension_table_path = f\"{gcp_project}.{bq_dataset}.{table_name}\"\n",
    "\n",
    "# Set the path to the source data files. Use double-slash for Windows paths C:\\\\myfolder\n",
    "# For Mac use forward slashes      /users/username/python_etl\n",
    "# file_source_path = 'c:\\\\Python_ETL'\n",
    "# file_source_path = 'C:\\\\Users\\\\rholo\\\\OneDrive\\\\Documents\\\\classes\\\\4400\\\\311'\n",
    "file_source_path = '/Users/liudmilakitaeva/311_tree_requests.csv'"
   ]
  },
  {
   "cell_type": "code",
   "execution_count": 4,
   "id": "436af56f",
   "metadata": {
    "id": "436af56f"
   },
   "outputs": [],
   "source": [
    "def transform_data(df: pd.DataFrame):\n",
    "    \"\"\"\n",
    "    transform_data\n",
    "    Accepts a data frame\n",
    "    Performs any specific cleaning and transformation steps on the dataframe\n",
    "    Returns the modified dataframe\n",
    "    This function can be modified based on required changes\n",
    "    \"\"\"\n",
    "    # Select the columns for this dimension\n",
    "    column_list = ['created_date', 'closed_date']\n",
    "    df = df[column_list]\n",
    "    # Remove duplicates\n",
    "    df = df.drop_duplicates()\n",
    "    return df"
   ]
  },
  {
   "cell_type": "code",
   "execution_count": 5,
   "id": "8972318f",
   "metadata": {},
   "outputs": [],
   "source": [
    "def generate_date_dimension(start, end):\n",
    "    \"\"\"\n",
    "    generate_date_dimension\n",
    "    Creates a calendar of all dates between 'start' and 'end'\n",
    "    See this for format details: https://docs.python.org/3/library/datetime.html#strftime-and-strptime-format-codes\n",
    "    Returns a new dataframe\n",
    "    \"\"\"\n",
    "    df = pd.DataFrame({\"full_date\": pd.date_range(start, end)})\n",
    "    df[\"month_name\"] = df.full_date.dt.strftime(\"%B\")\n",
    "    df[\"day_of_month\"] = df.full_date.dt.strftime(\"%d\")\n",
    "    df[\"quarter\"] = df.full_date.dt.quarter\n",
    "    df[\"year\"] = df.full_date.dt.strftime(\"%Y\")\n",
    "    return df"
   ]
  },
  {
   "cell_type": "code",
   "execution_count": 6,
   "id": "0d1bee48",
   "metadata": {
    "id": "0d1bee48"
   },
   "outputs": [],
   "source": [
    "def create_bigquery_client():\n",
    "    \"\"\"\n",
    "    create_bigquery_client\n",
    "    Creates a BigQuery client using the path to the service account key file\n",
    "    for credentials.\n",
    "    Returns the BigQuery client object\n",
    "    \"\"\"\n",
    "    try:\n",
    "        # If authenticating using a service account key file, use the following code:\n",
    "        # bqclient = bigquery.Client.from_service_account_json(credentials.path_to_service_account_key_file)\n",
    "        # Google Colab authentication already completed\n",
    "        bqclient = bigquery.Client(gcp_project)\n",
    "        return bqclient\n",
    "    except Exception as err:\n",
    "        print(\"error\")\n",
    "        # os._exit(-1)\n",
    "    return bqclient\n"
   ]
  },
  {
   "cell_type": "code",
   "execution_count": 7,
   "id": "3578f519",
   "metadata": {
    "id": "3578f519"
   },
   "outputs": [],
   "source": [
    "def upload_bigquery_table(bqclient, table_path, write_disposition, df):\n",
    "    \"\"\"\n",
    "    upload_bigquery_table\n",
    "    Accepts a path to a BigQuery table, the write disposition and a dataframe\n",
    "    Loads the data into the BigQuery table from the dataframe.\n",
    "    for credentials.\n",
    "    The write disposition is either\n",
    "    write_disposition=\"WRITE_TRUNCATE\"  Erase the target data and load all new data.\n",
    "    write_disposition=\"WRITE_APPEND\"    Append to the existing table\n",
    "    \"\"\"\n",
    "    try:\n",
    "        # Set up a BigQuery job configuration with the write_disposition.\n",
    "        job_config = bigquery.LoadJobConfig(write_disposition=write_disposition)\n",
    "        \n",
    "        # Submit the job\n",
    "        print(type(bqclient))\n",
    "        job = bqclient.load_table_from_dataframe(df, table_path, job_config=job_config)\n",
    "        # Show the job results\n",
    "    except Exception as err:\n",
    "        print(err)\n",
    "        #os._exit(-1)\n"
   ]
  },
  {
   "cell_type": "code",
   "execution_count": 8,
   "id": "3d37a312",
   "metadata": {
    "id": "3d37a312"
   },
   "outputs": [],
   "source": [
    "def bigquery_table_exists(bqclient, table_path):\n",
    "    \"\"\"\n",
    "    bigquery_table_exists\n",
    "    Accepts a path to a BigQuery table\n",
    "    Checks if the BigQuery table exists.\n",
    "    Returns True or False\n",
    "    \"\"\"\n",
    "    try:\n",
    "        bqclient.get_table(table_path)  # Make an API request.\n",
    "        return True\n",
    "    except NotFound:\n",
    "        return False"
   ]
  },
  {
   "cell_type": "code",
   "execution_count": 9,
   "id": "79339f5c",
   "metadata": {
    "id": "79339f5c"
   },
   "outputs": [],
   "source": [
    "def query_bigquery_table(table_path, bqclient, surrogate_key):\n",
    "    \"\"\"\n",
    "    query_bigquery_table\n",
    "    Accepts a path to a BigQuery table and the name of the surrogate key\n",
    "    Queries the BigQuery table but leaves out the update_timestamp and surrogate key columns\n",
    "    Returns the dataframe\n",
    "    \"\"\"\n",
    "    bq_df = pd.DataFrame\n",
    "    sql_query = 'SELECT * EXCEPT ( update_timestamp, '+surrogate_key+') FROM `' + table_path + '`'\n",
    "    try:\n",
    "        bq_df = bqclient.query(sql_query).to_dataframe()\n",
    "    except Exception as err:\n",
    "        print(\"error\")\n",
    "    return bq_df"
   ]
  },
  {
   "cell_type": "code",
   "execution_count": 10,
   "id": "484a7699",
   "metadata": {
    "id": "484a7699"
   },
   "outputs": [],
   "source": [
    "def add_surrogate_key(df, dimension_name='customers', offset=1):\n",
    "    \"\"\"\n",
    "    add_surrogate_key\n",
    "    Accepts a data frame and inserts an integer identifier as the first column\n",
    "    Returns the modified dataframe\n",
    "    \"\"\"\n",
    "    # Reset the index to count from 0\n",
    "    df.reset_index(drop=True, inplace=True)\n",
    "    # Add the new surrogate key starting from offset\n",
    "    df.insert(0, dimension_name+'_dim_id', df.index+offset)\n",
    "    return df"
   ]
  },
  {
   "cell_type": "code",
   "execution_count": 11,
   "id": "a93def27",
   "metadata": {
    "id": "a93def27"
   },
   "outputs": [],
   "source": [
    "def build_new_table(bqclient, dimension_table_path, dimension_name, df):\n",
    "    \"\"\"\n",
    "    build_new_table\n",
    "    Accepts a path to a dimensional table, the dimension name and a data frame\n",
    "    Add the surrogate key and a record timestamp to the data frame\n",
    "    Inserts the contents of the dataframe to the dimensional table.\n",
    "    \"\"\"\n",
    "    # Add a surrogate key\n",
    "    df = add_surrogate_key(df, dimension_name, 1)\n",
    "    # Add the update timestamp\n",
    "    # Upload the dataframe to the BigQuery table\n",
    "    upload_bigquery_table(bqclient, dimension_table_path, \"WRITE_TRUNCATE\", df)"
   ]
  },
  {
   "cell_type": "code",
   "execution_count": 12,
   "id": "813e45b4",
   "metadata": {},
   "outputs": [
    {
     "name": "stderr",
     "output_type": "stream",
     "text": [
      "/var/folders/d8/g37q0y0x23d0v418qhh88hn40000gn/T/ipykernel_87554/2084846694.py:12: DtypeWarning: Columns (17,18,20) have mixed types. Specify dtype option on import or set low_memory=False.\n",
      "  df = pd.read_csv(data)\n"
     ]
    },
    {
     "name": "stdout",
     "output_type": "stream",
     "text": [
      "<class 'google.cloud.bigquery.client.Client'>\n"
     ]
    }
   ],
   "source": [
    "# Program main\n",
    "# Load the CSV File into a dataframe\n",
    "# Transform the Dataframe\n",
    "# Create a BigQuery client\n",
    "# See if the target dimension table exists\n",
    "#    If not exists, load the data into a new table\n",
    "#    If exists, insert new records into the table\n",
    "if __name__ == \"__main__\":\n",
    "    df = pd.DataFrame\n",
    "    # Load in the data file\n",
    "    with open(file_source_path, 'r') as data:\n",
    "            df = pd.read_csv(data)\n",
    "        # Set all of the column names to lower case letters\n",
    "    df = df.rename(columns=str.lower)\n",
    "    df = generate_date_dimension(start='2016-01-01', end='2023-12-31')    \n",
    "    # Transform the data\n",
    "    #df = transform_data(df)\n",
    "    # Create the BigQuery Client\n",
    "    # setup enviroment parameters to connect to BQ project\n",
    "    os.environ['GOOGLE_APPLICATION_CREDENTIALS'] = path_to_service_account_key_file\n",
    "\n",
    "    # Construct a BigQuery client object\n",
    "    bqclient = bigquery.Client()\n",
    "\n",
    "    # See if the target dimensional table exists\n",
    "    target_table_exists = bigquery_table_exists(bqclient, dimension_table_path  )\n",
    "\n",
    "    # If the target dimension table does not exist, load all of the data into a new table\n",
    "    if not target_table_exists:\n",
    "        build_new_table( bqclient, dimension_table_path, dimension_name, df)\n",
    "    # If the target table exists, then perform an incremental load\n",
    "  \n",
    "    "
   ]
  },
  {
   "cell_type": "code",
   "execution_count": 13,
   "id": "290a6cb1",
   "metadata": {},
   "outputs": [
    {
     "data": {
      "text/html": [
       "<div>\n",
       "<style scoped>\n",
       "    .dataframe tbody tr th:only-of-type {\n",
       "        vertical-align: middle;\n",
       "    }\n",
       "\n",
       "    .dataframe tbody tr th {\n",
       "        vertical-align: top;\n",
       "    }\n",
       "\n",
       "    .dataframe thead th {\n",
       "        text-align: right;\n",
       "    }\n",
       "</style>\n",
       "<table border=\"1\" class=\"dataframe\">\n",
       "  <thead>\n",
       "    <tr style=\"text-align: right;\">\n",
       "      <th></th>\n",
       "      <th>date_dim_id</th>\n",
       "      <th>full_date</th>\n",
       "      <th>month_name</th>\n",
       "      <th>day_of_month</th>\n",
       "      <th>quarter</th>\n",
       "      <th>year</th>\n",
       "    </tr>\n",
       "  </thead>\n",
       "  <tbody>\n",
       "    <tr>\n",
       "      <th>0</th>\n",
       "      <td>1</td>\n",
       "      <td>2016-01-01</td>\n",
       "      <td>January</td>\n",
       "      <td>01</td>\n",
       "      <td>1</td>\n",
       "      <td>2016</td>\n",
       "    </tr>\n",
       "    <tr>\n",
       "      <th>1</th>\n",
       "      <td>2</td>\n",
       "      <td>2016-01-02</td>\n",
       "      <td>January</td>\n",
       "      <td>02</td>\n",
       "      <td>1</td>\n",
       "      <td>2016</td>\n",
       "    </tr>\n",
       "    <tr>\n",
       "      <th>2</th>\n",
       "      <td>3</td>\n",
       "      <td>2016-01-03</td>\n",
       "      <td>January</td>\n",
       "      <td>03</td>\n",
       "      <td>1</td>\n",
       "      <td>2016</td>\n",
       "    </tr>\n",
       "    <tr>\n",
       "      <th>3</th>\n",
       "      <td>4</td>\n",
       "      <td>2016-01-04</td>\n",
       "      <td>January</td>\n",
       "      <td>04</td>\n",
       "      <td>1</td>\n",
       "      <td>2016</td>\n",
       "    </tr>\n",
       "    <tr>\n",
       "      <th>4</th>\n",
       "      <td>5</td>\n",
       "      <td>2016-01-05</td>\n",
       "      <td>January</td>\n",
       "      <td>05</td>\n",
       "      <td>1</td>\n",
       "      <td>2016</td>\n",
       "    </tr>\n",
       "  </tbody>\n",
       "</table>\n",
       "</div>"
      ],
      "text/plain": [
       "   date_dim_id  full_date month_name day_of_month  quarter  year\n",
       "0            1 2016-01-01    January           01        1  2016\n",
       "1            2 2016-01-02    January           02        1  2016\n",
       "2            3 2016-01-03    January           03        1  2016\n",
       "3            4 2016-01-04    January           04        1  2016\n",
       "4            5 2016-01-05    January           05        1  2016"
      ]
     },
     "execution_count": 13,
     "metadata": {},
     "output_type": "execute_result"
    }
   ],
   "source": [
    "df.head()"
   ]
  },
  {
   "cell_type": "code",
   "execution_count": null,
   "id": "aa736d46",
   "metadata": {},
   "outputs": [],
   "source": []
  }
 ],
 "metadata": {
  "colab": {
   "provenance": []
  },
  "kernelspec": {
   "display_name": "Python 3 (ipykernel)",
   "language": "python",
   "name": "python3"
  },
  "language_info": {
   "codemirror_mode": {
    "name": "ipython",
    "version": 3
   },
   "file_extension": ".py",
   "mimetype": "text/x-python",
   "name": "python",
   "nbconvert_exporter": "python",
   "pygments_lexer": "ipython3",
   "version": "3.9.13"
  }
 },
 "nbformat": 4,
 "nbformat_minor": 5
}
